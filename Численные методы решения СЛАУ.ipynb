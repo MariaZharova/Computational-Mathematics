{
 "cells": [
  {
   "cell_type": "markdown",
   "metadata": {},
   "source": [
    "### Практическая работа № 2\n",
    "#### Жарова Мария, группа Б05-903"
   ]
  },
  {
   "cell_type": "markdown",
   "metadata": {},
   "source": [
    "### Предварительные сведения"
   ]
  },
  {
   "cell_type": "markdown",
   "metadata": {},
   "source": [
    "Векторные нормы:\n",
    "\n",
    "$||u||_{\\infty} = \\max_i|u_i|$\n",
    "\n",
    "$||u||_1 = \\sum_i |u_i|$\n",
    "\n",
    "$||u||_2 = \\left(\\sum_i |u_i|^2 \\right)^{\\frac{1}{2}}$\n",
    "\n",
    "Матричные нормы:\n",
    "\n",
    "$||A||_{\\infty} = \\max_i \\sum_j |a_{ij}|$\n",
    "\n",
    "$||A||_1 = \\max_j \\sum_i |a_{ij}|$\n",
    "\n",
    "$||A||_2 = \\left(\\max_i \\lambda_i(A A^*) \\right)^{\\frac{1}{2}}$"
   ]
  },
  {
   "cell_type": "markdown",
   "metadata": {},
   "source": [
    "Контрольный вопрос: какова будет вторая норма матрицы, если матрица самосопряженная?\n",
    "\n",
    "Ваш ответ на контрольный вопрос: Если $A_{n\\times n}$ - самосопряжённая, то $||A||_2 = max|\\lambda _i|,$ где $1\\leq i\\leq n.$"
   ]
  },
  {
   "cell_type": "code",
   "execution_count": 73,
   "metadata": {},
   "outputs": [
    {
     "name": "stdout",
     "output_type": "stream",
     "text": [
      "norm_1 =  5.0\n",
      "norm_2 =  4.844958524498339\n",
      "norm_inf =  7.0\n"
     ]
    },
    {
     "data": {
      "text/plain": [
       "array([[0, 0, 1],\n",
       "       [1, 1, 1],\n",
       "       [4, 2, 1]])"
      ]
     },
     "execution_count": 73,
     "metadata": {},
     "output_type": "execute_result"
    }
   ],
   "source": [
    "import numpy as np\n",
    "import numpy.linalg as la\n",
    "\n",
    "A = np.array([[1,2],[3,4]], dtype='float')\n",
    "v = range(0,3)\n",
    "Vander = np.vander(v)\n",
    "print('norm_1 = ', la.norm(Vander, 1))\n",
    "print('norm_2 = ', la.norm(Vander, 2))\n",
    "print('norm_inf = ', la.norm(Vander, np.inf))\n",
    "Vander"
   ]
  },
  {
   "cell_type": "markdown",
   "metadata": {},
   "source": [
    "Обусловленность:\n",
    "$$(A+\\delta A)u = f + \\delta f$$\n",
    "$$\\frac{||\\delta u||}{||u||}\\le \\frac{\\mu}{1-\\mu\\frac{||\\delta A||}{||A||}} \\left(\\frac{||\\delta f||}{||f||}+\\frac{||\\delta A||}{||A||}\\right)$$\n",
    "\n",
    "$\\mu$ - число обусловленности матрицы A, $\\mu(A) = ||A^{-1}||\\cdot||A||$, $\\mu \\ge 1$.\n",
    "\n"
   ]
  },
  {
   "cell_type": "markdown",
   "metadata": {},
   "source": [
    "## Пример проблемы использования метода Гаусса для решения СЛАУ"
   ]
  },
  {
   "cell_type": "code",
   "execution_count": 1,
   "metadata": {},
   "outputs": [],
   "source": [
    "import numpy as np\n",
    "import numpy.linalg as la\n",
    "\n",
    "def gauss( A, b ):\n",
    "    n = b.size\n",
    "    for k in range(0,n-1):\n",
    "        for i in range(k+1,n):\n",
    "            if A[i,k]!=0:\n",
    "                c = A[i,k]/A[k,k]\n",
    "                A[i,k+1:n] = A[i,k+1:n] - c*A[k,k+1:n]\n",
    "                b[i] = b[i] - c*b[k]\n",
    "                \n",
    "    # обратный ход\n",
    "    for k in range(n-1,-1,-1):\n",
    "        b[k] = (b[k] - np.dot(A[k,k+1:n],b[k+1:n]))/A[k,k];\n",
    "    return b\n",
    "\n",
    "#все числа в представлены как вещественные\n",
    "A1 = np.array([[1e-16, 1., -1.], [-1., 2., -1.], [2., -1., 0.]]);\n",
    "b1 = np.array([0., 0., 1.]);\n",
    "\n",
    "A2 = np.array([[2., -1., 0.], [-1., 2., -1.], [1e-16, 1., -1.]])\n",
    "b2 = np.array([1., 0., 0.])"
   ]
  },
  {
   "cell_type": "code",
   "execution_count": 2,
   "metadata": {},
   "outputs": [
    {
     "name": "stdout",
     "output_type": "stream",
     "text": [
      "[[ 1.e-16  1.e+00 -1.e+00]\n",
      " [-1.e+00  2.e+00 -1.e+00]\n",
      " [ 2.e+00 -1.e+00  0.e+00]]\n"
     ]
    }
   ],
   "source": [
    "print(A1)"
   ]
  },
  {
   "cell_type": "code",
   "execution_count": 6,
   "metadata": {},
   "outputs": [
    {
     "name": "stdout",
     "output_type": "stream",
     "text": [
      "[[ 2.e+00 -1.e+00  0.e+00]\n",
      " [-1.e+00  2.e+00 -1.e+00]\n",
      " [ 1.e-16  1.e+00 -1.e+00]]\n"
     ]
    }
   ],
   "source": [
    "print(A2)"
   ]
  },
  {
   "cell_type": "code",
   "execution_count": 4,
   "metadata": {},
   "outputs": [
    {
     "data": {
      "text/plain": [
       "3"
      ]
     },
     "execution_count": 4,
     "metadata": {},
     "output_type": "execute_result"
    }
   ],
   "source": [
    "b2 = np.array([1., 0., 0.])\n",
    "b2.shape[0]"
   ]
  },
  {
   "cell_type": "code",
   "execution_count": 3,
   "metadata": {},
   "outputs": [
    {
     "name": "stdout",
     "output_type": "stream",
     "text": [
      "mu1 =  16.39373162228438\n",
      "mu2 =  16.393731622284395\n",
      "u1 =  [0.55511151 0.25       0.25      ]\n",
      "u1 =  [2.77555756e+15 2.77555756e-01 1.80111512e-17]\n",
      "u2 =  [1. 1. 1.]\n"
     ]
    }
   ],
   "source": [
    "A1 = np.array([[1e-16, 1., -1.], [-1., 2., -1.], [2., -1., 0.]]);\n",
    "b1 = np.array([0., 0., 1.]);\n",
    "\n",
    "A2 = np.array([[2., -1., 0.], [-1., 2., -1.], [1e-16, 1., -1.]])\n",
    "b2 = np.array([1., 0., 0.])\n",
    "\n",
    "print('mu1 = ', la.cond(A1))\n",
    "print('mu2 = ', la.cond(A2))\n",
    "\n",
    "print('u1 = ', gauss(A1, b1))\n",
    "#print('u1 = ', la.solve(A1, b1))\n",
    "print('u2 = ', gauss(A2, b2))#la.solve(A2, b2))"
   ]
  },
  {
   "cell_type": "markdown",
   "metadata": {},
   "source": [
    "## Часть 1. LU разложение"
   ]
  },
  {
   "cell_type": "markdown",
   "metadata": {},
   "source": [
    "Задание: \n",
    "\n",
    "реализовать алгоритм решения предыдущей задачи с матрицей A2 с помощью LU-разложение В решении должна выводиться L, U и собственно решение системы. \n",
    "\n",
    "ВАЖНО: реализация метода LU должна быть получена путем небольшой модификации метода gauss!  При это саму реализацию можно разделить на два метода: один метод собственно находит LU разложение (можно сделать переделкой цикла для матрицы A метода gauss), второй метод - непосредственное решение системы с помощью прямого и обратного хода. Ни в каком виде нельзя ползоваться пакетными методами (в частности, la.solve)"
   ]
  },
  {
   "cell_type": "code",
   "execution_count": 194,
   "metadata": {},
   "outputs": [],
   "source": [
    "import numpy as np"
   ]
  },
  {
   "cell_type": "code",
   "execution_count": 195,
   "metadata": {},
   "outputs": [],
   "source": [
    "\"\"\" \n",
    "    Input: A - матрица, для которой будем делать LU-разложение.\n",
    "    Output: матрицы LU, L и U соответственно.\n",
    "    Функция находит LU-разложение для входной матрицы, если оно существует.\n",
    "\"\"\"\n",
    "def get_LU(A):\n",
    "    # проверим, что LU-разложение существует:\n",
    "    # используем критерий, что в A все верхние подматрицы должны быть невырожденны.\n",
    "    min_size = min(A.shape[0], A.shape[1])\n",
    "    for i in range(min_size):\n",
    "        if np.linalg.det(A[:i+1, :i+1]) == 0:\n",
    "            raise Exception('Для данной матрицы LU-разложения не существует.')\n",
    "    \n",
    "    # В случае успеха модифицируем алгоритм Гаусса:\n",
    "    # L - верхнетреугольная матрица с 1 на ГД, U - нижнетреугольная,\n",
    "    # составим LU как сумму U и L с занулённой ГД.\n",
    "    LU = np.matrix(np.zeros([A.shape[0], A.shape[1]]))\n",
    "    n = A.shape[0]\n",
    "    for k in range(n):\n",
    "        for i in range(k, n):\n",
    "            LU[k, i] = A[k, i] - LU[k, :k] * LU[:k, i]\n",
    "        for i in range(k + 1, n):\n",
    "            LU[i, k] = (A[i, k] - LU[i, :k] * LU[:k, k]) / LU[k, k]\n",
    "    # теперь легко выделить L и U:\n",
    "    L = LU.copy()\n",
    "    U = LU.copy()\n",
    "    for i in range(n):\n",
    "        L[i, i] = 1\n",
    "        L[i, i+1:] = 0\n",
    "    for i in range(1, n):\n",
    "        U[i, :i] = 0\n",
    "            \n",
    "    return LU, L, U"
   ]
  },
  {
   "cell_type": "code",
   "execution_count": 196,
   "metadata": {},
   "outputs": [
    {
     "data": {
      "text/plain": [
       "(matrix([[ 2. ,  3. ],\n",
       "         [ 2.5, -3.5]]),\n",
       " matrix([[1. , 0. ],\n",
       "         [2.5, 1. ]]),\n",
       " matrix([[ 2. ,  3. ],\n",
       "         [ 0. , -3.5]]))"
      ]
     },
     "metadata": {},
     "output_type": "display_data"
    },
    {
     "data": {
      "text/plain": [
       "matrix([[ True,  True],\n",
       "        [ True,  True]])"
      ]
     },
     "execution_count": 196,
     "metadata": {},
     "output_type": "execute_result"
    }
   ],
   "source": [
    "A = np.matrix([[2,3],[5,4]])#, dtype='float')\n",
    "ans = get_LU(A)\n",
    "display(ans)\n",
    "ans[1] @ ans[2] == A"
   ]
  },
  {
   "cell_type": "code",
   "execution_count": 162,
   "metadata": {},
   "outputs": [],
   "source": [
    "\"\"\" \n",
    "    Input: LU - LU-матрица, для матрицы A системы Ax = b (полученная из функции get_LU);\n",
    "           b - вектор-столбец свободных членов системы.\n",
    "    Output: решение x системы.\n",
    "    Функция решает СЛАУ, используя LU-разложение:\n",
    "    - Ax = b;\n",
    "    - LUx = b;\n",
    "    - Ly = b - решается прямой подстановкой;\n",
    "    - Ux = b - решается обратной подстановкой.\n",
    "\"\"\"\n",
    "def LU_solve(LU, b):\n",
    "    n = LU.shape[0]\n",
    "    # найдём вектор y (прямая подстановка)\n",
    "    y = np.matrix(np.zeros([n, 1]))\n",
    "    for i in range(y.shape[0]):\n",
    "        y[i] = b[i] - LU[i, :i] * y[:i]\n",
    "\n",
    "    # найдём вектор x (обратная подстановка)\n",
    "    x = np.matrix(np.zeros([n, 1]))\n",
    "    for i in range(1, n + 1):\n",
    "        x[-i] = (y[-i] - LU[-i, -i:] * x[-i:]) / LU[-i, -i]\n",
    "\n",
    "    return x"
   ]
  },
  {
   "cell_type": "code",
   "execution_count": 188,
   "metadata": {},
   "outputs": [
    {
     "name": "stdout",
     "output_type": "stream",
     "text": [
      "x = [[-0.28571429]\n",
      " [ 0.85714286]]\n",
      "--------\n",
      "[[2.]\n",
      " [2.]]\n",
      "[[2]\n",
      " [2]]\n"
     ]
    }
   ],
   "source": [
    "b = np.matrix([2, 2]).T\n",
    "x = LU_solve(ans[0], b)\n",
    "print('x =', x)\n",
    "print('--------')\n",
    "print(A @ x)\n",
    "print(b)"
   ]
  },
  {
   "cell_type": "markdown",
   "metadata": {
    "collapsed": true
   },
   "source": [
    "### LU - разложение с помощью пакета sympy"
   ]
  },
  {
   "cell_type": "markdown",
   "metadata": {},
   "source": [
    "Чтобы убедиться, что разложение получено верно, можно воспользоваться скриптом ниже"
   ]
  },
  {
   "cell_type": "code",
   "execution_count": 100,
   "metadata": {},
   "outputs": [
    {
     "data": {
      "text/latex": [
       "$\\displaystyle \\left[\\begin{matrix}1 & 0\\\\\\frac{5}{2} & 1\\end{matrix}\\right]$"
      ],
      "text/plain": [
       "Matrix([\n",
       "[  1, 0],\n",
       "[5/2, 1]])"
      ]
     },
     "metadata": {},
     "output_type": "display_data"
    },
    {
     "data": {
      "text/latex": [
       "$\\displaystyle \\left[\\begin{matrix}2 & 3\\\\0 & - \\frac{7}{2}\\end{matrix}\\right]$"
      ],
      "text/plain": [
       "Matrix([\n",
       "[2,    3],\n",
       "[0, -7/2]])"
      ]
     },
     "metadata": {},
     "output_type": "display_data"
    },
    {
     "data": {
      "text/latex": [
       "$\\displaystyle \\left[\\begin{matrix}2 & 3\\\\5 & 4\\end{matrix}\\right]$"
      ],
      "text/plain": [
       "Matrix([\n",
       "[2, 3],\n",
       "[5, 4]])"
      ]
     },
     "execution_count": 100,
     "metadata": {},
     "output_type": "execute_result"
    }
   ],
   "source": [
    "import sympy as sp\n",
    "\n",
    "A = sp.Matrix([[2, 3], [5, 4]])\n",
    "L, U, _ = A.LUdecomposition()\n",
    "display(L)\n",
    "display(U)\n",
    "L*U"
   ]
  },
  {
   "cell_type": "markdown",
   "metadata": {},
   "source": [
    "## Часть 2. Нахождение обратной матрицы с помощью LU разложения"
   ]
  },
  {
   "cell_type": "markdown",
   "metadata": {},
   "source": [
    "Задание:\n",
    "\n",
    "Предложить алгоритм с использованием LU-разложения и найти обратную матрицу с точностью $\\epsilon = 10^{-3}$:\n",
    "$$\n",
    "A = \\begin{pmatrix} \n",
    "1 & 1  & 1 \\\\\n",
    "0 & 1 & 2 \\\\\n",
    "7 & 1 & 4 \\\\\n",
    "\\end{pmatrix}\n",
    "$$\n",
    "Для необходимых оценок использовать первую норму. Сравнить результат со значением, найденным с помощью функции numpy.inv."
   ]
  },
  {
   "cell_type": "code",
   "execution_count": 230,
   "metadata": {},
   "outputs": [],
   "source": [
    "import numpy as np\n",
    "from sklearn.metrics import precision_score, accuracy_score"
   ]
  },
  {
   "cell_type": "code",
   "execution_count": 231,
   "metadata": {},
   "outputs": [
    {
     "data": {
      "text/plain": [
       "array([[ 0.22222222, -0.33333333,  0.11111111],\n",
       "       [ 1.55555556, -0.33333333, -0.22222222],\n",
       "       [-0.77777778,  0.66666667,  0.11111111]])"
      ]
     },
     "execution_count": 231,
     "metadata": {},
     "output_type": "execute_result"
    }
   ],
   "source": [
    "\"\"\" \n",
    "    Input: LU - LU-матрица для матрицы A (полученная из функции get_LU).\n",
    "    Output: A^{-1} - обратная матрица к А.\n",
    "    Функция находит обратную матрицу, используя LU-разложение исходной\n",
    "    (будем последовательно находить каждый столбец x обратной матрицы как решение \n",
    "    системы LUx = e, где e - соответствующий столбец единичной матрицы).\n",
    "\"\"\"\n",
    "def LU_inverse(LU):\n",
    "    n = LU.shape[0]\n",
    "    E = np.identity(n)\n",
    "    A_inv = np.zeros((n,n))\n",
    "    e = np.zeros(n)\n",
    "    # составим итоговую A^{-1} из отдельно полученных векторов\n",
    "    for i in range(n):\n",
    "        # составляем столбец e\n",
    "        for j in range(n):\n",
    "            e[j] = E[i][j]    \n",
    "        col = LU_solve(LU, e) # находим столбец обратной матрицы\n",
    "        # вставляем его в итоговый ответ\n",
    "        for j in range(n):\n",
    "            A_inv[j][i] = col[j]\n",
    "\n",
    "    return A_inv\n",
    "\n",
    "A = np.matrix([[1, 1, 1],[0, 1, 2], [7, 1, 4]])\n",
    "A_LU = get_LU(A)\n",
    "my_inv = LU_inverse(A_LU[0])\n",
    "my_inv"
   ]
  },
  {
   "cell_type": "code",
   "execution_count": 232,
   "metadata": {},
   "outputs": [
    {
     "data": {
      "text/plain": [
       "matrix([[ 0.22222222, -0.33333333,  0.11111111],\n",
       "        [ 1.55555556, -0.33333333, -0.22222222],\n",
       "        [-0.77777778,  0.66666667,  0.11111111]])"
      ]
     },
     "execution_count": 232,
     "metadata": {},
     "output_type": "execute_result"
    }
   ],
   "source": [
    "true_inv = np.linalg.inv(A)\n",
    "true_inv"
   ]
  },
  {
   "cell_type": "code",
   "execution_count": 238,
   "metadata": {},
   "outputs": [
    {
     "name": "stdout",
     "output_type": "stream",
     "text": [
      "2.5555555555555554\n",
      "2.5555555555555554\n"
     ]
    }
   ],
   "source": [
    "print(np.linalg.norm(my_inv, ord=1))\n",
    "print(np.linalg.norm(true_inv, ord=1))"
   ]
  }
 ],
 "metadata": {
  "anaconda-cloud": {},
  "kernelspec": {
   "display_name": "Python 3",
   "language": "python",
   "name": "python3"
  },
  "language_info": {
   "codemirror_mode": {
    "name": "ipython",
    "version": 3
   },
   "file_extension": ".py",
   "mimetype": "text/x-python",
   "name": "python",
   "nbconvert_exporter": "python",
   "pygments_lexer": "ipython3",
   "version": "3.8.5"
  }
 },
 "nbformat": 4,
 "nbformat_minor": 2
}
